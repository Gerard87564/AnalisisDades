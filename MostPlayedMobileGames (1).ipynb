{
 "cells": [
  {
   "cell_type": "code",
   "execution_count": 1,
   "id": "2ee06a82-a2a1-4e53-83a8-d204a8d6c3c4",
   "metadata": {},
   "outputs": [],
   "source": [
    "import pandas as pd\n",
    "import matplotlib.pyplot as plt\n",
    "import seaborn as sns"
   ]
  },
  {
   "cell_type": "code",
   "execution_count": 2,
   "id": "d8ee4e90-0c41-4104-a769-43fd4dafaee4",
   "metadata": {},
   "outputs": [],
   "source": [
    "sns.set(style=\"darkgrid\")"
   ]
  },
  {
   "cell_type": "code",
   "execution_count": 3,
   "id": "c3636606-e2f7-4fa5-acc4-84e4d815945e",
   "metadata": {},
   "outputs": [],
   "source": [
    "df = pd.read_csv('Mobile_games.csv')"
   ]
  },
  {
   "cell_type": "code",
   "execution_count": 4,
   "id": "583ffc20-9658-4292-a91c-90facaf4552f",
   "metadata": {},
   "outputs": [
    {
     "data": {
      "text/html": [
       "<div>\n",
       "<style scoped>\n",
       "    .dataframe tbody tr th:only-of-type {\n",
       "        vertical-align: middle;\n",
       "    }\n",
       "\n",
       "    .dataframe tbody tr th {\n",
       "        vertical-align: top;\n",
       "    }\n",
       "\n",
       "    .dataframe thead th {\n",
       "        text-align: right;\n",
       "    }\n",
       "</style>\n",
       "<table border=\"1\" class=\"dataframe\">\n",
       "  <thead>\n",
       "    <tr style=\"text-align: right;\">\n",
       "      <th></th>\n",
       "      <th>Game Title</th>\n",
       "      <th>Last Updated</th>\n",
       "      <th>Player count</th>\n",
       "      <th>Release Date</th>\n",
       "      <th>Publisher</th>\n",
       "    </tr>\n",
       "  </thead>\n",
       "  <tbody>\n",
       "    <tr>\n",
       "      <th>0</th>\n",
       "      <td>Candy Crush Saga</td>\n",
       "      <td>March 24, 2023</td>\n",
       "      <td>500 million</td>\n",
       "      <td>April 12, 2012</td>\n",
       "      <td>King</td>\n",
       "    </tr>\n",
       "    <tr>\n",
       "      <th>1</th>\n",
       "      <td>Call of Duty: Mobile</td>\n",
       "      <td>May 2021</td>\n",
       "      <td>500 million downloadsb</td>\n",
       "      <td>October 1, 2019</td>\n",
       "      <td>Activision</td>\n",
       "    </tr>\n",
       "    <tr>\n",
       "      <th>2</th>\n",
       "      <td>Among Us</td>\n",
       "      <td>November 2020</td>\n",
       "      <td>485 millionc</td>\n",
       "      <td>June 15, 2018</td>\n",
       "      <td>InnerSloth</td>\n",
       "    </tr>\n",
       "    <tr>\n",
       "      <th>3</th>\n",
       "      <td>Mini World</td>\n",
       "      <td>April 2020</td>\n",
       "      <td>400 million</td>\n",
       "      <td>December 26, 2015</td>\n",
       "      <td>Miniwan</td>\n",
       "    </tr>\n",
       "    <tr>\n",
       "      <th>4</th>\n",
       "      <td>Dragon Ball Z: Dokkan Battle</td>\n",
       "      <td>August 2021</td>\n",
       "      <td>350 million</td>\n",
       "      <td>January 30, 2015</td>\n",
       "      <td>Bandai Namco Entertainment</td>\n",
       "    </tr>\n",
       "    <tr>\n",
       "      <th>5</th>\n",
       "      <td>Sonic Dash</td>\n",
       "      <td>February 2020</td>\n",
       "      <td>350 million</td>\n",
       "      <td>March 7, 2013</td>\n",
       "      <td>Sega</td>\n",
       "    </tr>\n",
       "    <tr>\n",
       "      <th>6</th>\n",
       "      <td>Helix Jump</td>\n",
       "      <td>December 2018</td>\n",
       "      <td>334 million</td>\n",
       "      <td>February 10, 2018</td>\n",
       "      <td>Voodoo</td>\n",
       "    </tr>\n",
       "    <tr>\n",
       "      <th>7</th>\n",
       "      <td>Gardenscapes: New Acres</td>\n",
       "      <td>May 2020</td>\n",
       "      <td>324 million</td>\n",
       "      <td>August 2016</td>\n",
       "      <td>Playrix</td>\n",
       "    </tr>\n",
       "    <tr>\n",
       "      <th>8</th>\n",
       "      <td>Homescapes</td>\n",
       "      <td>May 2020</td>\n",
       "      <td>312 million</td>\n",
       "      <td>August 2017</td>\n",
       "      <td>Playrix</td>\n",
       "    </tr>\n",
       "    <tr>\n",
       "      <th>9</th>\n",
       "      <td>PUBG Mobile</td>\n",
       "      <td>August 2023</td>\n",
       "      <td>300 million</td>\n",
       "      <td>March 2018</td>\n",
       "      <td>Tencent games</td>\n",
       "    </tr>\n",
       "    <tr>\n",
       "      <th>10</th>\n",
       "      <td>Super Mario Run</td>\n",
       "      <td>August 2018</td>\n",
       "      <td>300 million</td>\n",
       "      <td>December 15, 2016</td>\n",
       "      <td>Nintendo</td>\n",
       "    </tr>\n",
       "    <tr>\n",
       "      <th>11</th>\n",
       "      <td>Township</td>\n",
       "      <td>May 2020</td>\n",
       "      <td>274 million</td>\n",
       "      <td>February 24, 2012</td>\n",
       "      <td>Playrix</td>\n",
       "    </tr>\n",
       "    <tr>\n",
       "      <th>12</th>\n",
       "      <td>Knives Out</td>\n",
       "      <td>September 2018</td>\n",
       "      <td>250 million</td>\n",
       "      <td>November 2017</td>\n",
       "      <td>NetEase</td>\n",
       "    </tr>\n",
       "    <tr>\n",
       "      <th>13</th>\n",
       "      <td>Angry Birds 2</td>\n",
       "      <td>December 2019</td>\n",
       "      <td>230 million</td>\n",
       "      <td>July 30, 2015</td>\n",
       "      <td>Rovio Entertainment</td>\n",
       "    </tr>\n",
       "    <tr>\n",
       "      <th>14</th>\n",
       "      <td>Honor of Kings / Arena of Valor</td>\n",
       "      <td>December 2017</td>\n",
       "      <td>200 million peak monthly players</td>\n",
       "      <td>November 26, 2015</td>\n",
       "      <td>Tencent Games</td>\n",
       "    </tr>\n",
       "    <tr>\n",
       "      <th>15</th>\n",
       "      <td>QQ Speed Mobile / Speed Drifters</td>\n",
       "      <td>January 2020</td>\n",
       "      <td>200 million</td>\n",
       "      <td>December 29, 2017</td>\n",
       "      <td>TiMi Studios / Tencent Games / Garena</td>\n",
       "    </tr>\n",
       "    <tr>\n",
       "      <th>16</th>\n",
       "      <td>Fishdom</td>\n",
       "      <td>May 2020</td>\n",
       "      <td>173 million</td>\n",
       "      <td>June 18, 2008</td>\n",
       "      <td>Playrix</td>\n",
       "    </tr>\n",
       "    <tr>\n",
       "      <th>17</th>\n",
       "      <td>Rise Up</td>\n",
       "      <td>December 2018</td>\n",
       "      <td>162 million</td>\n",
       "      <td>2018</td>\n",
       "      <td>Serkan Özyılmaz</td>\n",
       "    </tr>\n",
       "    <tr>\n",
       "      <th>18</th>\n",
       "      <td>PES 2018 Mobile</td>\n",
       "      <td>August 2018</td>\n",
       "      <td>150 million</td>\n",
       "      <td>September 12, 2017</td>\n",
       "      <td>Konami</td>\n",
       "    </tr>\n",
       "    <tr>\n",
       "      <th>19</th>\n",
       "      <td>War Robots</td>\n",
       "      <td>January 2020</td>\n",
       "      <td>150 million</td>\n",
       "      <td>April 14, 2014</td>\n",
       "      <td>Pixonic</td>\n",
       "    </tr>\n",
       "  </tbody>\n",
       "</table>\n",
       "</div>"
      ],
      "text/plain": [
       "                          Game Title    Last Updated  \\\n",
       "0                   Candy Crush Saga  March 24, 2023   \n",
       "1               Call of Duty: Mobile        May 2021   \n",
       "2                           Among Us   November 2020   \n",
       "3                         Mini World      April 2020   \n",
       "4       Dragon Ball Z: Dokkan Battle     August 2021   \n",
       "5                         Sonic Dash   February 2020   \n",
       "6                         Helix Jump   December 2018   \n",
       "7            Gardenscapes: New Acres        May 2020   \n",
       "8                         Homescapes        May 2020   \n",
       "9                        PUBG Mobile     August 2023   \n",
       "10                   Super Mario Run     August 2018   \n",
       "11                          Township        May 2020   \n",
       "12                        Knives Out  September 2018   \n",
       "13                     Angry Birds 2   December 2019   \n",
       "14   Honor of Kings / Arena of Valor   December 2017   \n",
       "15  QQ Speed Mobile / Speed Drifters    January 2020   \n",
       "16                           Fishdom        May 2020   \n",
       "17                           Rise Up   December 2018   \n",
       "18                   PES 2018 Mobile     August 2018   \n",
       "19                        War Robots    January 2020   \n",
       "\n",
       "                        Player count        Release Date  \\\n",
       "0                        500 million      April 12, 2012   \n",
       "1             500 million downloadsb     October 1, 2019   \n",
       "2                       485 millionc       June 15, 2018   \n",
       "3                        400 million   December 26, 2015   \n",
       "4                        350 million    January 30, 2015   \n",
       "5                        350 million       March 7, 2013   \n",
       "6                        334 million   February 10, 2018   \n",
       "7                        324 million         August 2016   \n",
       "8                        312 million         August 2017   \n",
       "9                        300 million          March 2018   \n",
       "10                       300 million   December 15, 2016   \n",
       "11                       274 million   February 24, 2012   \n",
       "12                       250 million       November 2017   \n",
       "13                       230 million       July 30, 2015   \n",
       "14  200 million peak monthly players   November 26, 2015   \n",
       "15                       200 million   December 29, 2017   \n",
       "16                       173 million       June 18, 2008   \n",
       "17                       162 million                2018   \n",
       "18                       150 million  September 12, 2017   \n",
       "19                       150 million      April 14, 2014   \n",
       "\n",
       "                                Publisher  \n",
       "0                                    King  \n",
       "1                              Activision  \n",
       "2                              InnerSloth  \n",
       "3                                 Miniwan  \n",
       "4              Bandai Namco Entertainment  \n",
       "5                                    Sega  \n",
       "6                                  Voodoo  \n",
       "7                                 Playrix  \n",
       "8                                 Playrix  \n",
       "9                           Tencent games  \n",
       "10                               Nintendo  \n",
       "11                                Playrix  \n",
       "12                                NetEase  \n",
       "13                    Rovio Entertainment  \n",
       "14                          Tencent Games  \n",
       "15  TiMi Studios / Tencent Games / Garena  \n",
       "16                                Playrix  \n",
       "17                        Serkan Özyılmaz  \n",
       "18                                 Konami  \n",
       "19                                Pixonic  "
      ]
     },
     "execution_count": 4,
     "metadata": {},
     "output_type": "execute_result"
    }
   ],
   "source": [
    "df.head(20)"
   ]
  },
  {
   "cell_type": "code",
   "execution_count": 5,
   "id": "0d9f8ad6-8d74-40d4-b74e-0c1003528fbc",
   "metadata": {},
   "outputs": [
    {
     "data": {
      "text/plain": [
       "52"
      ]
     },
     "execution_count": 5,
     "metadata": {},
     "output_type": "execute_result"
    }
   ],
   "source": [
    "len(df)"
   ]
  },
  {
   "cell_type": "code",
   "execution_count": 6,
   "id": "1ecc373a-c808-48e2-b9c6-f80f0c9fa9c6",
   "metadata": {},
   "outputs": [
    {
     "data": {
      "text/plain": [
       "Game Title      object\n",
       "Last Updated    object\n",
       "Player count    object\n",
       "Release Date    object\n",
       "Publisher       object\n",
       "dtype: object"
      ]
     },
     "execution_count": 6,
     "metadata": {},
     "output_type": "execute_result"
    }
   ],
   "source": [
    "df.dtypes"
   ]
  },
  {
   "cell_type": "code",
   "execution_count": 7,
   "id": "a658334a-7fec-48cd-88d2-348cb9aeb6ff",
   "metadata": {},
   "outputs": [],
   "source": [
    "df.columns = ['GAME','ULTIMA_ACTU','JUGADORS', 'DATA','EDITOR']"
   ]
  },
  {
   "cell_type": "code",
   "execution_count": 8,
   "id": "0bd91786-d242-4017-90dc-3d897428e29c",
   "metadata": {},
   "outputs": [],
   "source": [
    "Game_Callofduty = df.GAME.str.contains('Call of Duty')"
   ]
  },
  {
   "cell_type": "code",
   "execution_count": 9,
   "id": "f0b8bfa5-3fdb-49cc-8763-afced39e710d",
   "metadata": {},
   "outputs": [
    {
     "data": {
      "text/html": [
       "<div>\n",
       "<style scoped>\n",
       "    .dataframe tbody tr th:only-of-type {\n",
       "        vertical-align: middle;\n",
       "    }\n",
       "\n",
       "    .dataframe tbody tr th {\n",
       "        vertical-align: top;\n",
       "    }\n",
       "\n",
       "    .dataframe thead th {\n",
       "        text-align: right;\n",
       "    }\n",
       "</style>\n",
       "<table border=\"1\" class=\"dataframe\">\n",
       "  <thead>\n",
       "    <tr style=\"text-align: right;\">\n",
       "      <th></th>\n",
       "      <th>GAME</th>\n",
       "      <th>ULTIMA_ACTU</th>\n",
       "      <th>JUGADORS</th>\n",
       "      <th>DATA</th>\n",
       "      <th>EDITOR</th>\n",
       "    </tr>\n",
       "  </thead>\n",
       "  <tbody>\n",
       "    <tr>\n",
       "      <th>1</th>\n",
       "      <td>Call of Duty: Mobile</td>\n",
       "      <td>May 2021</td>\n",
       "      <td>500 million downloadsb</td>\n",
       "      <td>October 1, 2019</td>\n",
       "      <td>Activision</td>\n",
       "    </tr>\n",
       "  </tbody>\n",
       "</table>\n",
       "</div>"
      ],
      "text/plain": [
       "                   GAME ULTIMA_ACTU                JUGADORS             DATA  \\\n",
       "1  Call of Duty: Mobile    May 2021  500 million downloadsb  October 1, 2019   \n",
       "\n",
       "       EDITOR  \n",
       "1  Activision  "
      ]
     },
     "execution_count": 9,
     "metadata": {},
     "output_type": "execute_result"
    }
   ],
   "source": [
    "df.loc[Game_Callofduty].head()"
   ]
  },
  {
   "cell_type": "code",
   "execution_count": 10,
   "id": "9ec5d16f-4a77-4625-89a5-ef792b4a0f39",
   "metadata": {},
   "outputs": [
    {
     "data": {
      "text/plain": [
       "{'Call of Duty: Mobile'}"
      ]
     },
     "execution_count": 10,
     "metadata": {},
     "output_type": "execute_result"
    }
   ],
   "source": [
    "set(df.GAME[Game_Callofduty])"
   ]
  },
  {
   "cell_type": "code",
   "execution_count": 11,
   "id": "53f87527-d6a8-4f5b-bedc-27b405a4702a",
   "metadata": {},
   "outputs": [],
   "source": [
    "Game_Db = df.GAME.str.contains('Dragon Ball')"
   ]
  },
  {
   "cell_type": "code",
   "execution_count": 12,
   "id": "81722d84-7aca-490c-ac29-58f8c586ea73",
   "metadata": {},
   "outputs": [
    {
     "data": {
      "text/html": [
       "<div>\n",
       "<style scoped>\n",
       "    .dataframe tbody tr th:only-of-type {\n",
       "        vertical-align: middle;\n",
       "    }\n",
       "\n",
       "    .dataframe tbody tr th {\n",
       "        vertical-align: top;\n",
       "    }\n",
       "\n",
       "    .dataframe thead th {\n",
       "        text-align: right;\n",
       "    }\n",
       "</style>\n",
       "<table border=\"1\" class=\"dataframe\">\n",
       "  <thead>\n",
       "    <tr style=\"text-align: right;\">\n",
       "      <th></th>\n",
       "      <th>GAME</th>\n",
       "      <th>ULTIMA_ACTU</th>\n",
       "      <th>JUGADORS</th>\n",
       "      <th>DATA</th>\n",
       "      <th>EDITOR</th>\n",
       "    </tr>\n",
       "  </thead>\n",
       "  <tbody>\n",
       "    <tr>\n",
       "      <th>4</th>\n",
       "      <td>Dragon Ball Z: Dokkan Battle</td>\n",
       "      <td>August 2021</td>\n",
       "      <td>350 million</td>\n",
       "      <td>January 30, 2015</td>\n",
       "      <td>Bandai Namco Entertainment</td>\n",
       "    </tr>\n",
       "  </tbody>\n",
       "</table>\n",
       "</div>"
      ],
      "text/plain": [
       "                           GAME  ULTIMA_ACTU     JUGADORS              DATA  \\\n",
       "4  Dragon Ball Z: Dokkan Battle  August 2021  350 million  January 30, 2015   \n",
       "\n",
       "                       EDITOR  \n",
       "4  Bandai Namco Entertainment  "
      ]
     },
     "execution_count": 12,
     "metadata": {},
     "output_type": "execute_result"
    }
   ],
   "source": [
    "df.loc[Game_Db].head()"
   ]
  },
  {
   "cell_type": "code",
   "execution_count": 13,
   "id": "dff63556-259a-4ebc-a786-7edc21cd97d7",
   "metadata": {},
   "outputs": [],
   "source": [
    "Jugadors500 = df.JUGADORS.str.contains('Jugadors')"
   ]
  },
  {
   "cell_type": "code",
   "execution_count": 14,
   "id": "4a67de5f-7f78-4aab-b2f6-720e1d01a715",
   "metadata": {},
   "outputs": [
    {
     "data": {
      "text/html": [
       "<div>\n",
       "<style scoped>\n",
       "    .dataframe tbody tr th:only-of-type {\n",
       "        vertical-align: middle;\n",
       "    }\n",
       "\n",
       "    .dataframe tbody tr th {\n",
       "        vertical-align: top;\n",
       "    }\n",
       "\n",
       "    .dataframe thead th {\n",
       "        text-align: right;\n",
       "    }\n",
       "</style>\n",
       "<table border=\"1\" class=\"dataframe\">\n",
       "  <thead>\n",
       "    <tr style=\"text-align: right;\">\n",
       "      <th></th>\n",
       "      <th>GAME</th>\n",
       "      <th>ULTIMA_ACTU</th>\n",
       "      <th>JUGADORS</th>\n",
       "      <th>DATA</th>\n",
       "      <th>EDITOR</th>\n",
       "    </tr>\n",
       "  </thead>\n",
       "  <tbody>\n",
       "  </tbody>\n",
       "</table>\n",
       "</div>"
      ],
      "text/plain": [
       "Empty DataFrame\n",
       "Columns: [GAME, ULTIMA_ACTU, JUGADORS, DATA, EDITOR]\n",
       "Index: []"
      ]
     },
     "execution_count": 14,
     "metadata": {},
     "output_type": "execute_result"
    }
   ],
   "source": [
    "df.loc[Jugadors500].head()"
   ]
  }
 ],
 "metadata": {
  "kernelspec": {
   "display_name": "Python 3 (ipykernel)",
   "language": "python",
   "name": "python3"
  },
  "language_info": {
   "codemirror_mode": {
    "name": "ipython",
    "version": 3
   },
   "file_extension": ".py",
   "mimetype": "text/x-python",
   "name": "python",
   "nbconvert_exporter": "python",
   "pygments_lexer": "ipython3",
   "version": "3.10.8"
  }
 },
 "nbformat": 4,
 "nbformat_minor": 5
}
